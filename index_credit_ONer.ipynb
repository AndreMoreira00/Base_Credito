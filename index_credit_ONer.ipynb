{
 "cells": [
  {
   "cell_type": "code",
   "execution_count": 27,
   "metadata": {},
   "outputs": [],
   "source": [
    "import Orange"
   ]
  },
  {
   "cell_type": "code",
   "execution_count": 19,
   "metadata": {},
   "outputs": [],
   "source": [
    "# base_risco_credito = Orange.data.Table('risco_credito_regras.csv')"
   ]
  },
  {
   "cell_type": "code",
   "execution_count": 20,
   "metadata": {},
   "outputs": [],
   "source": [
    "# base_risco_credito"
   ]
  },
  {
   "cell_type": "code",
   "execution_count": 21,
   "metadata": {},
   "outputs": [],
   "source": [
    "# base_risco_credito.domain"
   ]
  },
  {
   "cell_type": "code",
   "execution_count": 22,
   "metadata": {},
   "outputs": [],
   "source": [
    "# cn2 = Orange.classification.rules.CN2Learner()\n",
    "# regras_risco_credito = cn2(base_risco_credito)"
   ]
  },
  {
   "cell_type": "code",
   "execution_count": 23,
   "metadata": {},
   "outputs": [],
   "source": [
    "# for regras in regras_risco_credito.rule_list:\n",
    "#   print(regras)"
   ]
  },
  {
   "cell_type": "code",
   "execution_count": 24,
   "metadata": {},
   "outputs": [],
   "source": [
    "# previsoes = regras_risco_credito([['boa', 'alta', 'nenhuma', 'acima_35'],['ruim', 'alta', 'adequada', '0_15']])\n",
    "# previsoes"
   ]
  },
  {
   "cell_type": "code",
   "execution_count": 25,
   "metadata": {},
   "outputs": [],
   "source": [
    "# base_risco_credito.domain.class_var.values"
   ]
  },
  {
   "cell_type": "code",
   "execution_count": 26,
   "metadata": {},
   "outputs": [],
   "source": [
    "# for i in previsoes:\n",
    "#   # print(i)\n",
    "#   print(base_risco_credito.domain.class_var.values[i])"
   ]
  },
  {
   "cell_type": "code",
   "execution_count": 29,
   "metadata": {},
   "outputs": [],
   "source": [
    "base_credit = Orange.data.Table('credit_data_regras.csv')"
   ]
  },
  {
   "cell_type": "code",
   "execution_count": 30,
   "metadata": {},
   "outputs": [
    {
     "data": {
      "text/plain": [
       "[income, age, loan | default]"
      ]
     },
     "execution_count": 30,
     "metadata": {},
     "output_type": "execute_result"
    }
   ],
   "source": [
    "base_credit.domain"
   ]
  },
  {
   "cell_type": "code",
   "execution_count": 31,
   "metadata": {},
   "outputs": [],
   "source": [
    "base_dividida = Orange.evaluation.testing.sample(base_credit, n=0.25)"
   ]
  },
  {
   "cell_type": "code",
   "execution_count": 32,
   "metadata": {},
   "outputs": [
    {
     "data": {
      "text/plain": [
       "([[28267.1, 54.6463, 965.373 | 0],\n",
       "  [57646.2, 62.8707, 1452.49 | 0],\n",
       "  [62988.8, 32.4746, 6924.9 | 0],\n",
       "  [46643.1, 53.4051, 6440.86 | 0],\n",
       "  [56535, 27.8079, 2161.08 | 0],\n",
       "  ...\n",
       " ],\n",
       " [[66217.9, 19.0816, 745.076 | 0],\n",
       "  [42591.6, 45.1166, 4602.25 | 0],\n",
       "  [64901.9, 44.9388, 9589.83 | 0],\n",
       "  [45181.9, 48.0968, 2243.15 | 0],\n",
       "  [25048, 54.6568, 2341.37 | 0],\n",
       "  ...\n",
       " ])"
      ]
     },
     "execution_count": 32,
     "metadata": {},
     "output_type": "execute_result"
    }
   ],
   "source": [
    "base_dividida"
   ]
  },
  {
   "cell_type": "code",
   "execution_count": 33,
   "metadata": {},
   "outputs": [
    {
     "data": {
      "text/plain": [
       "[[28267.1, 54.6463, 965.373 | 0],\n",
       " [57646.2, 62.8707, 1452.49 | 0],\n",
       " [62988.8, 32.4746, 6924.9 | 0],\n",
       " [46643.1, 53.4051, 6440.86 | 0],\n",
       " [56535, 27.8079, 2161.08 | 0],\n",
       " ...\n",
       "]"
      ]
     },
     "execution_count": 33,
     "metadata": {},
     "output_type": "execute_result"
    }
   ],
   "source": [
    "base_dividida[0]"
   ]
  },
  {
   "cell_type": "code",
   "execution_count": 34,
   "metadata": {},
   "outputs": [],
   "source": [
    "base_treinamento = base_dividida[1]\n",
    "base_teste = base_dividida[0]"
   ]
  },
  {
   "cell_type": "code",
   "execution_count": 35,
   "metadata": {},
   "outputs": [
    {
     "data": {
      "text/plain": [
       "(1500, 500)"
      ]
     },
     "execution_count": 35,
     "metadata": {},
     "output_type": "execute_result"
    }
   ],
   "source": [
    "len(base_treinamento), len(base_teste)"
   ]
  },
  {
   "cell_type": "code",
   "execution_count": 36,
   "metadata": {},
   "outputs": [],
   "source": [
    "cn2 = Orange.classification.rules.CN2Learner()\n",
    "regras_credit = cn2(base_treinamento)"
   ]
  },
  {
   "cell_type": "code",
   "execution_count": 38,
   "metadata": {},
   "outputs": [
    {
     "name": "stdout",
     "output_type": "stream",
     "text": [
      "IF age>=34.9257164876908 THEN default=0 \n",
      "IF loan<=2495.13299137587 AND income>=20145.9885970689 THEN default=0 \n",
      "IF loan>=7513.18286435755 AND loan>=9601.375482171099 THEN default=1 \n",
      "IF income<=31722.7309499867 AND loan>=3489.84313638823 THEN default=1 \n",
      "IF loan>=7513.18286435755 AND loan>=9595.28628892989 THEN default=0 \n",
      "IF loan>=7513.18286435755 AND age>=20.9909665295854 THEN default=1 \n",
      "IF income<=24857.6948815025 AND age>=23.238169600255798 THEN default=1 \n",
      "IF income>=57628.438917454296 AND age>=20.3008601283655 THEN default=0 \n",
      "IF loan>=6043.14310633161 AND age>=23.1489815721288 THEN default=1 \n",
      "IF loan>=7235.19471689825 THEN default=1 \n",
      "IF income>=48790.1324336417 THEN default=0 \n",
      "IF loan<=4849.33378471958 AND income>=38042.0841556042 THEN default=0 \n",
      "IF loan<=4367.26495019919 AND loan>=4367.26495019919 THEN default=1 \n",
      "IF loan>=5416.3577980789005 AND loan>=5785.88427485782 THEN default=1 \n",
      "IF loan<=4625.19337762744 AND age>=25.568741328083 THEN default=0 \n",
      "IF income>=46801.274286117405 THEN default=0 \n",
      "IF age>=22.146262606140198 AND loan>=5473.98555060076 THEN default=1 \n",
      "IF loan<=4625.19337762744 AND age>=24.7831077934243 THEN default=1 \n",
      "IF age<=18.9473467003554 AND income>=36132.3275882751 THEN default=0 \n",
      "IF loan>=4625.19337762744 AND age>=32.270279629621704 THEN default=0 \n",
      "IF age>=22.146262606140198 THEN default=1 \n",
      "IF income>=37123.0796375312 THEN default=1 \n",
      "IF income>=24857.6948815025 AND age>=19.716176087502397 THEN default=0 \n",
      "IF age>=18.9473467003554 THEN default=1 \n",
      "IF income<=32197.6207010448 THEN default=0 \n",
      "IF TRUE THEN default=0 \n"
     ]
    }
   ],
   "source": [
    "for regras in regras_credit.rule_list:\n",
    "  print(regras)"
   ]
  },
  {
   "cell_type": "code",
   "execution_count": 39,
   "metadata": {},
   "outputs": [],
   "source": [
    "previsoes = Orange.evaluation.TestOnTestData(base_treinamento, base_teste, [lambda testdata: regras_credit])"
   ]
  },
  {
   "cell_type": "code",
   "execution_count": 40,
   "metadata": {},
   "outputs": [
    {
     "data": {
      "text/plain": [
       "<Orange.evaluation.testing.Results at 0x2c8bcd6cd00>"
      ]
     },
     "execution_count": 40,
     "metadata": {},
     "output_type": "execute_result"
    }
   ],
   "source": [
    "previsoes"
   ]
  },
  {
   "cell_type": "code",
   "execution_count": 41,
   "metadata": {},
   "outputs": [
    {
     "data": {
      "text/plain": [
       "array([0.976])"
      ]
     },
     "execution_count": 41,
     "metadata": {},
     "output_type": "execute_result"
    }
   ],
   "source": [
    "Orange.evaluation.CA(previsoes)"
   ]
  },
  {
   "cell_type": "code",
   "execution_count": null,
   "metadata": {},
   "outputs": [],
   "source": []
  }
 ],
 "metadata": {
  "kernelspec": {
   "display_name": "Python 3",
   "language": "python",
   "name": "python3"
  },
  "language_info": {
   "codemirror_mode": {
    "name": "ipython",
    "version": 3
   },
   "file_extension": ".py",
   "mimetype": "text/x-python",
   "name": "python",
   "nbconvert_exporter": "python",
   "pygments_lexer": "ipython3",
   "version": "3.9.7"
  }
 },
 "nbformat": 4,
 "nbformat_minor": 2
}
