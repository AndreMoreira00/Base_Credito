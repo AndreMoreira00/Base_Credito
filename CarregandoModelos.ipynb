{
  "cells": [
    {
      "cell_type": "code",
      "source": [
        "import pickle"
      ],
      "metadata": {
        "id": "XoKUpCJHBz3l"
      },
      "execution_count": 62,
      "outputs": []
    },
    {
      "cell_type": "code",
      "source": [
        "with open('credit.pkl', 'rb') as f:\n",
        "  x_treinamento, y_treinamento, x_teste, y_teste = pickle.load(f)"
      ],
      "metadata": {
        "id": "631vJLQRCCTU"
      },
      "execution_count": 63,
      "outputs": []
    },
    {
      "cell_type": "code",
      "source": [
        "import numpy as np"
      ],
      "metadata": {
        "id": "6rC1hlznCXYd"
      },
      "execution_count": 64,
      "outputs": []
    },
    {
      "cell_type": "code",
      "source": [
        "X_credit = np.concatenate((x_treinamento, x_teste), axis=0)\n",
        "Y_credit = np.concatenate((y_treinamento, y_teste), axis=0)"
      ],
      "metadata": {
        "id": "GA5mtzDhCajf"
      },
      "execution_count": 65,
      "outputs": []
    },
    {
      "cell_type": "markdown",
      "metadata": {
        "id": "Fo4xim6X7Jqy"
      },
      "source": [
        "# Carregando Modelos Salvos"
      ]
    },
    {
      "cell_type": "code",
      "execution_count": 66,
      "metadata": {
        "id": "wy3PFCj97Jq3",
        "outputId": "2e9a3ecc-5144-438b-b2ec-02ca337ca852",
        "colab": {
          "base_uri": "https://localhost:8080/"
        }
      },
      "outputs": [
        {
          "output_type": "stream",
          "name": "stdout",
          "text": [
            "Requirement already satisfied: skops in /usr/local/lib/python3.10/dist-packages (0.9.0)\n",
            "Requirement already satisfied: scikit-learn>=0.24 in /usr/local/lib/python3.10/dist-packages (from skops) (1.2.2)\n",
            "Requirement already satisfied: huggingface-hub>=0.17.0 in /usr/local/lib/python3.10/dist-packages (from skops) (0.23.0)\n",
            "Requirement already satisfied: tabulate>=0.8.8 in /usr/local/lib/python3.10/dist-packages (from skops) (0.9.0)\n",
            "Requirement already satisfied: packaging>=17.0 in /usr/local/lib/python3.10/dist-packages (from skops) (24.0)\n",
            "Requirement already satisfied: filelock in /usr/local/lib/python3.10/dist-packages (from huggingface-hub>=0.17.0->skops) (3.14.0)\n",
            "Requirement already satisfied: fsspec>=2023.5.0 in /usr/local/lib/python3.10/dist-packages (from huggingface-hub>=0.17.0->skops) (2023.6.0)\n",
            "Requirement already satisfied: pyyaml>=5.1 in /usr/local/lib/python3.10/dist-packages (from huggingface-hub>=0.17.0->skops) (6.0.1)\n",
            "Requirement already satisfied: requests in /usr/local/lib/python3.10/dist-packages (from huggingface-hub>=0.17.0->skops) (2.31.0)\n",
            "Requirement already satisfied: tqdm>=4.42.1 in /usr/local/lib/python3.10/dist-packages (from huggingface-hub>=0.17.0->skops) (4.66.4)\n",
            "Requirement already satisfied: typing-extensions>=3.7.4.3 in /usr/local/lib/python3.10/dist-packages (from huggingface-hub>=0.17.0->skops) (4.11.0)\n",
            "Requirement already satisfied: numpy>=1.17.3 in /usr/local/lib/python3.10/dist-packages (from scikit-learn>=0.24->skops) (1.25.2)\n",
            "Requirement already satisfied: scipy>=1.3.2 in /usr/local/lib/python3.10/dist-packages (from scikit-learn>=0.24->skops) (1.11.4)\n",
            "Requirement already satisfied: joblib>=1.1.1 in /usr/local/lib/python3.10/dist-packages (from scikit-learn>=0.24->skops) (1.4.2)\n",
            "Requirement already satisfied: threadpoolctl>=2.0.0 in /usr/local/lib/python3.10/dist-packages (from scikit-learn>=0.24->skops) (3.5.0)\n",
            "Requirement already satisfied: charset-normalizer<4,>=2 in /usr/local/lib/python3.10/dist-packages (from requests->huggingface-hub>=0.17.0->skops) (3.3.2)\n",
            "Requirement already satisfied: idna<4,>=2.5 in /usr/local/lib/python3.10/dist-packages (from requests->huggingface-hub>=0.17.0->skops) (3.7)\n",
            "Requirement already satisfied: urllib3<3,>=1.21.1 in /usr/local/lib/python3.10/dist-packages (from requests->huggingface-hub>=0.17.0->skops) (2.0.7)\n",
            "Requirement already satisfied: certifi>=2017.4.17 in /usr/local/lib/python3.10/dist-packages (from requests->huggingface-hub>=0.17.0->skops) (2024.2.2)\n"
          ]
        }
      ],
      "source": [
        "!pip install skops\n",
        "from skops.io import load"
      ]
    },
    {
      "cell_type": "code",
      "execution_count": 67,
      "metadata": {
        "id": "2zy9KlJu7Jq6"
      },
      "outputs": [],
      "source": [
        "rede_neural = load('rede_neural_finalizada.skops', trusted=True)\n",
        "arvore = load('arvore_finalizada.skops', trusted=True)\n",
        "svm = load('svm_finalizada.skops', trusted=True)"
      ]
    },
    {
      "cell_type": "code",
      "execution_count": 68,
      "metadata": {
        "id": "J4qs1_eI7Jq7",
        "outputId": "63779449-ec21-4e00-9155-2d9a94d850aa",
        "colab": {
          "base_uri": "https://localhost:8080/"
        }
      },
      "outputs": [
        {
          "output_type": "execute_result",
          "data": {
            "text/plain": [
              "array([-1.3754462 ,  0.50631087,  0.10980934])"
            ]
          },
          "metadata": {},
          "execution_count": 68
        }
      ],
      "source": [
        "novo_registro = X_credit[0]\n",
        "novo_registro"
      ]
    },
    {
      "cell_type": "code",
      "source": [
        "novo_registro.shape"
      ],
      "metadata": {
        "id": "WlaZtVn8BWWl",
        "outputId": "706c6fbd-d868-4d41-e13e-d81360e10491",
        "colab": {
          "base_uri": "https://localhost:8080/"
        }
      },
      "execution_count": 69,
      "outputs": [
        {
          "output_type": "execute_result",
          "data": {
            "text/plain": [
              "(3,)"
            ]
          },
          "metadata": {},
          "execution_count": 69
        }
      ]
    },
    {
      "cell_type": "code",
      "source": [
        "novo_registro = novo_registro.reshape(1,-1)\n",
        "novo_registro.shape"
      ],
      "metadata": {
        "id": "4DrtYImSC5wC",
        "outputId": "86020f0e-201a-487b-8cf7-39405ad49b71",
        "colab": {
          "base_uri": "https://localhost:8080/"
        }
      },
      "execution_count": 70,
      "outputs": [
        {
          "output_type": "execute_result",
          "data": {
            "text/plain": [
              "(1, 3)"
            ]
          },
          "metadata": {},
          "execution_count": 70
        }
      ]
    },
    {
      "cell_type": "code",
      "source": [
        "rede_neural.predict(novo_registro)"
      ],
      "metadata": {
        "id": "LjbqrGNnDBw1",
        "outputId": "1bacd0bd-f2c9-40bb-ca30-74269e044e0a",
        "colab": {
          "base_uri": "https://localhost:8080/"
        }
      },
      "execution_count": 71,
      "outputs": [
        {
          "output_type": "execute_result",
          "data": {
            "text/plain": [
              "array([0])"
            ]
          },
          "metadata": {},
          "execution_count": 71
        }
      ]
    },
    {
      "cell_type": "code",
      "source": [
        "arvore.predict(novo_registro)"
      ],
      "metadata": {
        "id": "EWzOHhybDIYL",
        "outputId": "4c2e4a10-383e-4b67-a6a0-fe5432ce51fe",
        "colab": {
          "base_uri": "https://localhost:8080/"
        }
      },
      "execution_count": 72,
      "outputs": [
        {
          "output_type": "execute_result",
          "data": {
            "text/plain": [
              "array([0])"
            ]
          },
          "metadata": {},
          "execution_count": 72
        }
      ]
    },
    {
      "cell_type": "code",
      "source": [
        "svm.predict(novo_registro)"
      ],
      "metadata": {
        "id": "zWOVI83TDMIH",
        "outputId": "43784636-9903-4def-cf45-72f137bf0320",
        "colab": {
          "base_uri": "https://localhost:8080/"
        }
      },
      "execution_count": 73,
      "outputs": [
        {
          "output_type": "execute_result",
          "data": {
            "text/plain": [
              "array([0])"
            ]
          },
          "metadata": {},
          "execution_count": 73
        }
      ]
    },
    {
      "cell_type": "markdown",
      "source": [
        "# Combinando mais de um classificador"
      ],
      "metadata": {
        "id": "aG3dKmXnLhOb"
      }
    },
    {
      "cell_type": "code",
      "source": [
        "novo_registro = X_credit[0]\n",
        "novo_registro = novo_registro.reshape(1,-1)\n",
        "novo_registro, novo_registro.shape"
      ],
      "metadata": {
        "id": "f5IaOFyyDOJT",
        "outputId": "e5739b02-5ca0-490d-99fa-0f946d68a5a7",
        "colab": {
          "base_uri": "https://localhost:8080/"
        }
      },
      "execution_count": 74,
      "outputs": [
        {
          "output_type": "execute_result",
          "data": {
            "text/plain": [
              "(array([[-1.3754462 ,  0.50631087,  0.10980934]]), (1, 3))"
            ]
          },
          "metadata": {},
          "execution_count": 74
        }
      ]
    },
    {
      "cell_type": "code",
      "source": [
        "resposta_rede = rede_neural.predict(novo_registro)\n",
        "resposta_arvore = arvore.predict(novo_registro)\n",
        "resposta_svm = svm.predict(novo_registro)"
      ],
      "metadata": {
        "id": "GrN5EG19MAqM"
      },
      "execution_count": 75,
      "outputs": []
    },
    {
      "cell_type": "code",
      "source": [
        "resposta_rede[0], resposta_arvore[0], resposta_svm[0]"
      ],
      "metadata": {
        "id": "BHyfmUSeMBJj",
        "outputId": "11d351b2-395e-484b-8670-833fbeaa749e",
        "colab": {
          "base_uri": "https://localhost:8080/"
        }
      },
      "execution_count": 76,
      "outputs": [
        {
          "output_type": "execute_result",
          "data": {
            "text/plain": [
              "(0, 0, 0)"
            ]
          },
          "metadata": {},
          "execution_count": 76
        }
      ]
    },
    {
      "cell_type": "code",
      "source": [
        "paga = 0\n",
        "nao_paga = 0\n",
        "\n",
        "if resposta_rede[0] == 1:\n",
        "  nao_paga += 1\n",
        "else:\n",
        "  paga += 1\n",
        "\n",
        "if resposta_arvore[0] == 1:\n",
        "  nao_paga += 1\n",
        "else:\n",
        "  paga += 1\n",
        "\n",
        "if resposta_svm[0] == 1:\n",
        "  nao_paga += 1\n",
        "else:\n",
        "  paga += 1\n",
        "\n",
        "if paga > nao_paga:\n",
        "  print(\"Pagará o emprestimo\")\n",
        "elif paga == nao_paga:\n",
        "  print(\"Empate\")\n",
        "else:\n",
        "  print(\"Não paga o emprestimo\")"
      ],
      "metadata": {
        "id": "5Y1NUzBnMWxY",
        "outputId": "3f1f6a1f-1873-4a84-fa1f-6fa09f1e7d92",
        "colab": {
          "base_uri": "https://localhost:8080/"
        }
      },
      "execution_count": 77,
      "outputs": [
        {
          "output_type": "stream",
          "name": "stdout",
          "text": [
            "Pagará o emprestimo\n"
          ]
        }
      ]
    },
    {
      "cell_type": "markdown",
      "source": [
        "# Rejeição de classificadores"
      ],
      "metadata": {
        "id": "9Qn59f6pOerU"
      }
    },
    {
      "cell_type": "code",
      "source": [
        "novo_registro = X_credit[0]\n",
        "novo_registro = novo_registro.reshape(1,-1)\n",
        "novo_registro, novo_registro.shape"
      ],
      "metadata": {
        "id": "gmbbKWM0OhHD",
        "outputId": "c92726b3-52bb-4d70-8632-e439fae2d52b",
        "colab": {
          "base_uri": "https://localhost:8080/"
        }
      },
      "execution_count": 78,
      "outputs": [
        {
          "output_type": "execute_result",
          "data": {
            "text/plain": [
              "(array([[-1.3754462 ,  0.50631087,  0.10980934]]), (1, 3))"
            ]
          },
          "metadata": {},
          "execution_count": 78
        }
      ]
    },
    {
      "cell_type": "code",
      "source": [
        "resposta_rede = rede_neural.predict(novo_registro)\n",
        "resposta_arvore = arvore.predict(novo_registro)\n",
        "resposta_svm = svm.predict(novo_registro)"
      ],
      "metadata": {
        "id": "rmVSqenwOpHL"
      },
      "execution_count": 79,
      "outputs": []
    },
    {
      "cell_type": "code",
      "source": [
        "resposta_rede[0], resposta_arvore[0], resposta_svm[0]"
      ],
      "metadata": {
        "id": "HUAwmCkfOr61",
        "outputId": "059214e9-0fac-42a3-d70c-9d0f0e84496c",
        "colab": {
          "base_uri": "https://localhost:8080/"
        }
      },
      "execution_count": 80,
      "outputs": [
        {
          "output_type": "execute_result",
          "data": {
            "text/plain": [
              "(0, 0, 0)"
            ]
          },
          "metadata": {},
          "execution_count": 80
        }
      ]
    },
    {
      "cell_type": "code",
      "source": [
        "# probabilidade do modelo\n",
        "probabilidade_rede_neural = rede_neural.predict_proba(novo_registro)\n",
        "probabilidade_rede_neural"
      ],
      "metadata": {
        "id": "-rA-ZME7Ou8A",
        "outputId": "bdde48d5-77ed-4dd1-ecd7-6843c0f0d46b",
        "colab": {
          "base_uri": "https://localhost:8080/"
        }
      },
      "execution_count": 81,
      "outputs": [
        {
          "output_type": "execute_result",
          "data": {
            "text/plain": [
              "array([[1.00000000e+00, 3.35482391e-17]])"
            ]
          },
          "metadata": {},
          "execution_count": 81
        }
      ]
    },
    {
      "cell_type": "code",
      "source": [
        "confianca_rede_neural = probabilidade_rede_neural.max()\n",
        "confianca_rede_neural"
      ],
      "metadata": {
        "id": "H36y4xKRQt9s",
        "outputId": "98d1920f-6381-4c69-957f-c4fb7791c7f5",
        "colab": {
          "base_uri": "https://localhost:8080/"
        }
      },
      "execution_count": 82,
      "outputs": [
        {
          "output_type": "execute_result",
          "data": {
            "text/plain": [
              "1.0"
            ]
          },
          "metadata": {},
          "execution_count": 82
        }
      ]
    },
    {
      "cell_type": "code",
      "source": [
        "probabilidade_arvore = arvore.predict_proba(novo_registro)\n",
        "probabilidade_arvore"
      ],
      "metadata": {
        "id": "hlUBb9RPRC22",
        "outputId": "5fcf9f9f-de8e-4f78-deaa-c9ff39cb0dd4",
        "colab": {
          "base_uri": "https://localhost:8080/"
        }
      },
      "execution_count": 83,
      "outputs": [
        {
          "output_type": "execute_result",
          "data": {
            "text/plain": [
              "array([[1., 0.]])"
            ]
          },
          "metadata": {},
          "execution_count": 83
        }
      ]
    },
    {
      "cell_type": "code",
      "source": [
        "confianca_arvore = probabilidade_arvore.max()\n",
        "confianca_arvore"
      ],
      "metadata": {
        "id": "q4SAf5bmRMWl",
        "outputId": "99148ac2-9034-4c8b-c8ad-f4f0e8f386e7",
        "colab": {
          "base_uri": "https://localhost:8080/"
        }
      },
      "execution_count": 84,
      "outputs": [
        {
          "output_type": "execute_result",
          "data": {
            "text/plain": [
              "1.0"
            ]
          },
          "metadata": {},
          "execution_count": 84
        }
      ]
    },
    {
      "cell_type": "code",
      "source": [
        "probabilidade_svm = svm.predict_proba(novo_registro)\n",
        "confianca_svm = probabilidade_svm.max()\n",
        "confianca_svm"
      ],
      "metadata": {
        "id": "eLUDT4YURg3T",
        "outputId": "abbed7a6-9c32-4474-9d59-9e2c3ca86750",
        "colab": {
          "base_uri": "https://localhost:8080/"
        }
      },
      "execution_count": 85,
      "outputs": [
        {
          "output_type": "execute_result",
          "data": {
            "text/plain": [
              "0.9999978733317746"
            ]
          },
          "metadata": {},
          "execution_count": 85
        }
      ]
    },
    {
      "cell_type": "code",
      "source": [
        "paga = 0\n",
        "nao_paga = 0\n",
        "confianca_minima = 0.999999\n",
        "algoritmos = 0\n",
        "\n",
        "if confianca_rede_neural >= confianca_minima:\n",
        "  algoritmos += 1\n",
        "  if resposta_rede[0] == 1:\n",
        "    nao_paga += 1\n",
        "  else:\n",
        "    paga += 1\n",
        "\n",
        "if confianca_arvore >= confianca_minima:\n",
        "  algoritmos += 1\n",
        "  if resposta_arvore[0] == 1:\n",
        "    nao_paga += 1\n",
        "  else:\n",
        "    paga += 1\n",
        "\n",
        "if confianca_svm >= confianca_minima:\n",
        "  algoritmos += 1\n",
        "  if resposta_svm[0] == 1:\n",
        "    nao_paga += 1\n",
        "  else:\n",
        "    paga += 1\n",
        "\n",
        "if paga > nao_paga:\n",
        "  print(f\"Pagará o emprestimo, baseado em {algoritmos} algoritmos\")\n",
        "elif paga == nao_paga:\n",
        "  print(f\"Empate, baseado em {algoritmos} algoritmos\")\n",
        "else:\n",
        "  print(f\"Não paga o emprestimo, baseado em {algoritmos} algoritmos\")"
      ],
      "metadata": {
        "id": "kwsnGP10Rqgc",
        "outputId": "dfc342b6-3870-4ac4-f727-9cfd087af163",
        "colab": {
          "base_uri": "https://localhost:8080/"
        }
      },
      "execution_count": 87,
      "outputs": [
        {
          "output_type": "stream",
          "name": "stdout",
          "text": [
            "Pagará o emprestimo, baseado em 2 algoritimos\n"
          ]
        }
      ]
    },
    {
      "cell_type": "code",
      "source": [],
      "metadata": {
        "id": "xZp78Uz8VNw5"
      },
      "execution_count": null,
      "outputs": []
    }
  ],
  "metadata": {
    "kernelspec": {
      "display_name": "Python 3",
      "language": "python",
      "name": "python3"
    },
    "language_info": {
      "codemirror_mode": {
        "name": "ipython",
        "version": 3
      },
      "file_extension": ".py",
      "mimetype": "text/x-python",
      "name": "python",
      "nbconvert_exporter": "python",
      "pygments_lexer": "ipython3",
      "version": "3.9.7"
    },
    "colab": {
      "provenance": []
    }
  },
  "nbformat": 4,
  "nbformat_minor": 0
}